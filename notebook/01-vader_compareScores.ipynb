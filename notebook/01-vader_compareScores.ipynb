{
 "cells": [
  {
   "cell_type": "markdown",
   "metadata": {},
   "source": [
    "# Comparing VADER scores\n",
    "\n",
    "Here we want to compare the scores from VADER to the scores assigned in the Senti140 original data ('original', in the data) "
   ]
  },
  {
   "cell_type": "code",
   "execution_count": 1,
   "metadata": {
    "collapsed": true
   },
   "outputs": [],
   "source": [
    "import pandas as pd"
   ]
  },
  {
   "cell_type": "code",
   "execution_count": 2,
   "metadata": {
    "collapsed": false
   },
   "outputs": [
    {
     "data": {
      "text/html": [
       "<div>\n",
       "<table border=\"1\" class=\"dataframe\">\n",
       "  <thead>\n",
       "    <tr style=\"text-align: right;\">\n",
       "      <th></th>\n",
       "      <th>originalScore</th>\n",
       "      <th>sentence</th>\n",
       "      <th>compoundScore</th>\n",
       "      <th>positiveScore</th>\n",
       "      <th>neutralScore</th>\n",
       "      <th>negativeScore</th>\n",
       "    </tr>\n",
       "  </thead>\n",
       "  <tbody>\n",
       "    <tr>\n",
       "      <th>0</th>\n",
       "      <td>4</td>\n",
       "      <td>@stellargirl I loooooooovvvvvveee my Kindle2. ...</td>\n",
       "      <td>0.5695</td>\n",
       "      <td>0.268</td>\n",
       "      <td>0.614</td>\n",
       "      <td>0.117</td>\n",
       "    </tr>\n",
       "    <tr>\n",
       "      <th>1</th>\n",
       "      <td>4</td>\n",
       "      <td>Reading my kindle2...  Love it... Lee childs i...</td>\n",
       "      <td>0.7964</td>\n",
       "      <td>0.470</td>\n",
       "      <td>0.530</td>\n",
       "      <td>0.000</td>\n",
       "    </tr>\n",
       "    <tr>\n",
       "      <th>2</th>\n",
       "      <td>4</td>\n",
       "      <td>Ok, first assesment of the #kindle2 ...it fuck...</td>\n",
       "      <td>0.4724</td>\n",
       "      <td>0.278</td>\n",
       "      <td>0.722</td>\n",
       "      <td>0.000</td>\n",
       "    </tr>\n",
       "    <tr>\n",
       "      <th>3</th>\n",
       "      <td>4</td>\n",
       "      <td>@kenburbary You'll love your Kindle2. I've had...</td>\n",
       "      <td>0.7772</td>\n",
       "      <td>0.285</td>\n",
       "      <td>0.593</td>\n",
       "      <td>0.122</td>\n",
       "    </tr>\n",
       "    <tr>\n",
       "      <th>4</th>\n",
       "      <td>4</td>\n",
       "      <td>@mikefish  Fair enough. But i have the Kindle2...</td>\n",
       "      <td>0.8402</td>\n",
       "      <td>0.500</td>\n",
       "      <td>0.500</td>\n",
       "      <td>0.000</td>\n",
       "    </tr>\n",
       "  </tbody>\n",
       "</table>\n",
       "</div>"
      ],
      "text/plain": [
       "   originalScore                                           sentence  \\\n",
       "0              4  @stellargirl I loooooooovvvvvveee my Kindle2. ...   \n",
       "1              4  Reading my kindle2...  Love it... Lee childs i...   \n",
       "2              4  Ok, first assesment of the #kindle2 ...it fuck...   \n",
       "3              4  @kenburbary You'll love your Kindle2. I've had...   \n",
       "4              4  @mikefish  Fair enough. But i have the Kindle2...   \n",
       "\n",
       "   compoundScore  positiveScore  neutralScore  negativeScore  \n",
       "0         0.5695          0.268         0.614          0.117  \n",
       "1         0.7964          0.470         0.530          0.000  \n",
       "2         0.4724          0.278         0.722          0.000  \n",
       "3         0.7772          0.285         0.593          0.122  \n",
       "4         0.8402          0.500         0.500          0.000  "
      ]
     },
     "execution_count": 2,
     "metadata": {},
     "output_type": "execute_result"
    }
   ],
   "source": [
    "df = pd.read_csv('../data/vaderScores.csv')\n",
    "df.head()"
   ]
  },
  {
   "cell_type": "markdown",
   "metadata": {},
   "source": [
    "using the scoring rule available from the VADER git repo: https://github.com/cjhutto/vaderSentiment:\n",
    "\n",
    "* positive sentiment: compound score >= 0.5\n",
    "* neutral sentiment: (compound score > -0.5) and (compound score < 0.5)\n",
    "* negative sentiment: compound score <= -0.5\n",
    "\n",
    "let's assign a classification to the tweets"
   ]
  },
  {
   "cell_type": "code",
   "execution_count": 3,
   "metadata": {
    "collapsed": false
   },
   "outputs": [],
   "source": [
    "df['vaderClassification'] = ['positive' if x >=  0.5 \n",
    "                             else 'negative' if x <= -0.5\n",
    "                             else 'neutral'\n",
    "                             for x in df['compoundScore']]\n"
   ]
  },
  {
   "cell_type": "markdown",
   "metadata": {},
   "source": [
    "the mapping between originalScore and classification is (from http://help.sentiment140.com/for-students/)\n",
    "\n",
    "* 0 = negative,\n",
    "* 2 = neutral, \n",
    "* 4 = positive\n",
    "\n",
    "so let's code that up too:"
   ]
  },
  {
   "cell_type": "code",
   "execution_count": 4,
   "metadata": {
    "collapsed": true
   },
   "outputs": [],
   "source": [
    "df['senti140Classification'] = ['positive' if x ==  4 \n",
    "                             else 'negative' if x == 0\n",
    "                             else 'neutral'\n",
    "                             for x in df['originalScore']]"
   ]
  },
  {
   "cell_type": "markdown",
   "metadata": {},
   "source": [
    "## Comparing VADER scores to Sentiment 140 scores"
   ]
  },
  {
   "cell_type": "markdown",
   "metadata": {},
   "source": [
    "#### How many tweets do we get the same classification?\n",
    "now, let's see how often these scores agree..."
   ]
  },
  {
   "cell_type": "code",
   "execution_count": 5,
   "metadata": {
    "collapsed": false
   },
   "outputs": [
    {
     "data": {
      "text/plain": [
       "299"
      ]
     },
     "execution_count": 5,
     "metadata": {},
     "output_type": "execute_result"
    }
   ],
   "source": [
    "df[df['vaderClassification'] == df['senti140Classification']].shape[0]"
   ]
  },
  {
   "cell_type": "markdown",
   "metadata": {},
   "source": [
    "which is what percentage of tweets?\n"
   ]
  },
  {
   "cell_type": "code",
   "execution_count": 6,
   "metadata": {
    "collapsed": false
   },
   "outputs": [
    {
     "data": {
      "text/plain": [
       "0.6004016064257028"
      ]
     },
     "execution_count": 6,
     "metadata": {},
     "output_type": "execute_result"
    }
   ],
   "source": [
    "df[df['vaderClassification'] == df['senti140Classification']].shape[0] / df.shape[0]"
   ]
  },
  {
   "cell_type": "markdown",
   "metadata": {},
   "source": [
    "#### How many are polar opposites (the 'problematic' case)"
   ]
  },
  {
   "cell_type": "code",
   "execution_count": 7,
   "metadata": {
    "collapsed": false
   },
   "outputs": [],
   "source": [
    "polarOpposite = df.copy()\n",
    "polarOpposite = polarOpposite[( (df['vaderClassification'] == 'positive' ) & (df['senti140Classification'] == 'negative') ) \n",
    "                              |\n",
    "                                (df['vaderClassification'] == 'negative' ) & (df['senti140Classification'] == 'positive')]"
   ]
  },
  {
   "cell_type": "code",
   "execution_count": 8,
   "metadata": {
    "collapsed": false
   },
   "outputs": [
    {
     "data": {
      "text/plain": [
       "21"
      ]
     },
     "execution_count": 8,
     "metadata": {},
     "output_type": "execute_result"
    }
   ],
   "source": [
    "polarOpposite.shape[0]"
   ]
  },
  {
   "cell_type": "code",
   "execution_count": 9,
   "metadata": {
    "collapsed": false
   },
   "outputs": [
    {
     "data": {
      "text/plain": [
       "0.04216867469879518"
      ]
     },
     "execution_count": 9,
     "metadata": {},
     "output_type": "execute_result"
    }
   ],
   "source": [
    "polarOpposite.shape[0] / df.shape[0]"
   ]
  },
  {
   "cell_type": "markdown",
   "metadata": {},
   "source": [
    "what tweets are they?"
   ]
  },
  {
   "cell_type": "code",
   "execution_count": 10,
   "metadata": {
    "collapsed": false
   },
   "outputs": [
    {
     "data": {
      "text/html": [
       "<div>\n",
       "<table border=\"1\" class=\"dataframe\">\n",
       "  <thead>\n",
       "    <tr style=\"text-align: right;\">\n",
       "      <th></th>\n",
       "      <th>originalScore</th>\n",
       "      <th>sentence</th>\n",
       "      <th>compoundScore</th>\n",
       "      <th>positiveScore</th>\n",
       "      <th>neutralScore</th>\n",
       "      <th>negativeScore</th>\n",
       "      <th>vaderClassification</th>\n",
       "      <th>senti140Classification</th>\n",
       "    </tr>\n",
       "  </thead>\n",
       "  <tbody>\n",
       "    <tr>\n",
       "      <th>18</th>\n",
       "      <td>0</td>\n",
       "      <td>@ludajuice Lebron is a Beast, but I'm still cheering 4 the A..til the end.</td>\n",
       "      <td>0.6652</td>\n",
       "      <td>0.288</td>\n",
       "      <td>0.712</td>\n",
       "      <td>0.000</td>\n",
       "      <td>positive</td>\n",
       "      <td>negative</td>\n",
       "    </tr>\n",
       "    <tr>\n",
       "      <th>24</th>\n",
       "      <td>4</td>\n",
       "      <td>good news, just had a call from the Visa office, saying everything is fine.....what a relief! I am sick of scams out there! Stealing!</td>\n",
       "      <td>-0.7701</td>\n",
       "      <td>0.178</td>\n",
       "      <td>0.475</td>\n",
       "      <td>0.347</td>\n",
       "      <td>negative</td>\n",
       "      <td>positive</td>\n",
       "    </tr>\n",
       "    <tr>\n",
       "      <th>136</th>\n",
       "      <td>0</td>\n",
       "      <td>Night at the Museum tonite instead of UP. :( oh well. that 4 yr old better enjoy it. LOL</td>\n",
       "      <td>0.8331</td>\n",
       "      <td>0.425</td>\n",
       "      <td>0.470</td>\n",
       "      <td>0.105</td>\n",
       "      <td>positive</td>\n",
       "      <td>negative</td>\n",
       "    </tr>\n",
       "    <tr>\n",
       "      <th>139</th>\n",
       "      <td>0</td>\n",
       "      <td>Tell me again why we are giving more $$ to GM?? We should use that $ for all the programs that support the unemployed.</td>\n",
       "      <td>0.6662</td>\n",
       "      <td>0.206</td>\n",
       "      <td>0.794</td>\n",
       "      <td>0.000</td>\n",
       "      <td>positive</td>\n",
       "      <td>negative</td>\n",
       "    </tr>\n",
       "    <tr>\n",
       "      <th>140</th>\n",
       "      <td>0</td>\n",
       "      <td>@jdreiss oh yes but if GM dies it will only be worth more boo hahaha</td>\n",
       "      <td>0.8597</td>\n",
       "      <td>0.442</td>\n",
       "      <td>0.558</td>\n",
       "      <td>0.000</td>\n",
       "      <td>positive</td>\n",
       "      <td>negative</td>\n",
       "    </tr>\n",
       "    <tr>\n",
       "      <th>149</th>\n",
       "      <td>0</td>\n",
       "      <td>I hate Time Warner! Soooo wish I had Vios. Cant watch the fricken Mets game w/o buffering. I feel like im watching free internet porn.</td>\n",
       "      <td>0.6239</td>\n",
       "      <td>0.288</td>\n",
       "      <td>0.590</td>\n",
       "      <td>0.121</td>\n",
       "      <td>positive</td>\n",
       "      <td>negative</td>\n",
       "    </tr>\n",
       "    <tr>\n",
       "      <th>150</th>\n",
       "      <td>0</td>\n",
       "      <td>Ahh...got rid of stupid time warner today &amp;amp; now taking a nap while the roomies cook for me. Pretty good end for a monday :)</td>\n",
       "      <td>0.6908</td>\n",
       "      <td>0.289</td>\n",
       "      <td>0.603</td>\n",
       "      <td>0.108</td>\n",
       "      <td>positive</td>\n",
       "      <td>negative</td>\n",
       "    </tr>\n",
       "    <tr>\n",
       "      <th>162</th>\n",
       "      <td>4</td>\n",
       "      <td>My wrist still hurts. I have to get it looked at. I HATE the dr/dentist/scary places. :( Time to watch Eagle eye. If you want to join, txt!</td>\n",
       "      <td>-0.8491</td>\n",
       "      <td>0.099</td>\n",
       "      <td>0.596</td>\n",
       "      <td>0.304</td>\n",
       "      <td>negative</td>\n",
       "      <td>positive</td>\n",
       "    </tr>\n",
       "    <tr>\n",
       "      <th>231</th>\n",
       "      <td>0</td>\n",
       "      <td>@MMBarnhill yay, glad you got the phone! Still, damn you, AT&amp;amp;T.</td>\n",
       "      <td>0.6114</td>\n",
       "      <td>0.385</td>\n",
       "      <td>0.460</td>\n",
       "      <td>0.155</td>\n",
       "      <td>positive</td>\n",
       "      <td>negative</td>\n",
       "    </tr>\n",
       "    <tr>\n",
       "      <th>255</th>\n",
       "      <td>4</td>\n",
       "      <td>@Lou911 Lebron is MURDERING shit.</td>\n",
       "      <td>-0.8636</td>\n",
       "      <td>0.000</td>\n",
       "      <td>0.258</td>\n",
       "      <td>0.742</td>\n",
       "      <td>negative</td>\n",
       "      <td>positive</td>\n",
       "    </tr>\n",
       "    <tr>\n",
       "      <th>256</th>\n",
       "      <td>4</td>\n",
       "      <td>@uscsports21 LeBron is a monsta and he is only 24. SMH The world ain't ready.</td>\n",
       "      <td>-0.6301</td>\n",
       "      <td>0.000</td>\n",
       "      <td>0.700</td>\n",
       "      <td>0.300</td>\n",
       "      <td>negative</td>\n",
       "      <td>positive</td>\n",
       "    </tr>\n",
       "    <tr>\n",
       "      <th>259</th>\n",
       "      <td>0</td>\n",
       "      <td>Kobe is the best in the world not lebron .</td>\n",
       "      <td>0.6369</td>\n",
       "      <td>0.344</td>\n",
       "      <td>0.656</td>\n",
       "      <td>0.000</td>\n",
       "      <td>positive</td>\n",
       "      <td>negative</td>\n",
       "    </tr>\n",
       "    <tr>\n",
       "      <th>298</th>\n",
       "      <td>0</td>\n",
       "      <td>The day I never have to deal with Comcast again will rank as one of the best days of my life.</td>\n",
       "      <td>0.6369</td>\n",
       "      <td>0.181</td>\n",
       "      <td>0.819</td>\n",
       "      <td>0.000</td>\n",
       "      <td>positive</td>\n",
       "      <td>negative</td>\n",
       "    </tr>\n",
       "    <tr>\n",
       "      <th>312</th>\n",
       "      <td>0</td>\n",
       "      <td>@Fraggle312 oh those are awesome! i so wish they weren't owned by nike :(</td>\n",
       "      <td>0.7170</td>\n",
       "      <td>0.379</td>\n",
       "      <td>0.481</td>\n",
       "      <td>0.140</td>\n",
       "      <td>positive</td>\n",
       "      <td>negative</td>\n",
       "    </tr>\n",
       "    <tr>\n",
       "      <th>327</th>\n",
       "      <td>4</td>\n",
       "      <td>Will the Lakers kick the Nuggets ass tonight?</td>\n",
       "      <td>-0.5423</td>\n",
       "      <td>0.000</td>\n",
       "      <td>0.667</td>\n",
       "      <td>0.333</td>\n",
       "      <td>negative</td>\n",
       "      <td>positive</td>\n",
       "    </tr>\n",
       "    <tr>\n",
       "      <th>329</th>\n",
       "      <td>0</td>\n",
       "      <td>Wat the heck is North Korea doing!!??!! They just conducted powerful nuclear tests! Follow the link: http://www.msnbc.msn.com/id/30921379</td>\n",
       "      <td>0.6517</td>\n",
       "      <td>0.213</td>\n",
       "      <td>0.787</td>\n",
       "      <td>0.000</td>\n",
       "      <td>positive</td>\n",
       "      <td>negative</td>\n",
       "    </tr>\n",
       "    <tr>\n",
       "      <th>458</th>\n",
       "      <td>0</td>\n",
       "      <td>@sheridanmarfil - its not so much my obsession with cell phones, but the iphone!  i'm a slave to at&amp;amp;t forever because of it. :)</td>\n",
       "      <td>0.5362</td>\n",
       "      <td>0.164</td>\n",
       "      <td>0.766</td>\n",
       "      <td>0.070</td>\n",
       "      <td>positive</td>\n",
       "      <td>negative</td>\n",
       "    </tr>\n",
       "    <tr>\n",
       "      <th>461</th>\n",
       "      <td>0</td>\n",
       "      <td>Fuzzball is more fun than AT&amp;amp;T ;P http://fuzz-ball.com/twitter</td>\n",
       "      <td>0.5563</td>\n",
       "      <td>0.339</td>\n",
       "      <td>0.661</td>\n",
       "      <td>0.000</td>\n",
       "      <td>positive</td>\n",
       "      <td>negative</td>\n",
       "    </tr>\n",
       "    <tr>\n",
       "      <th>474</th>\n",
       "      <td>0</td>\n",
       "      <td>dearest @google, you rich bastards! the VISA card you sent me doesn't work. why screw a little guy like me?</td>\n",
       "      <td>0.7193</td>\n",
       "      <td>0.380</td>\n",
       "      <td>0.483</td>\n",
       "      <td>0.138</td>\n",
       "      <td>positive</td>\n",
       "      <td>negative</td>\n",
       "    </tr>\n",
       "    <tr>\n",
       "      <th>485</th>\n",
       "      <td>0</td>\n",
       "      <td>Monday already. Iran may implode. Kitchen is a disaster. @annagoss seems happy. @sebulous had a nice weekend and @goldpanda is great. wh...</td>\n",
       "      <td>0.7579</td>\n",
       "      <td>0.345</td>\n",
       "      <td>0.521</td>\n",
       "      <td>0.134</td>\n",
       "      <td>positive</td>\n",
       "      <td>negative</td>\n",
       "    </tr>\n",
       "    <tr>\n",
       "      <th>490</th>\n",
       "      <td>0</td>\n",
       "      <td>I just created my first LaTeX file from scratch. That didn't work out very well. (See @amandabittner , it's a great time waster)</td>\n",
       "      <td>0.8173</td>\n",
       "      <td>0.333</td>\n",
       "      <td>0.667</td>\n",
       "      <td>0.000</td>\n",
       "      <td>positive</td>\n",
       "      <td>negative</td>\n",
       "    </tr>\n",
       "  </tbody>\n",
       "</table>\n",
       "</div>"
      ],
      "text/plain": [
       "     originalScore  \\\n",
       "18               0   \n",
       "24               4   \n",
       "136              0   \n",
       "139              0   \n",
       "140              0   \n",
       "149              0   \n",
       "150              0   \n",
       "162              4   \n",
       "231              0   \n",
       "255              4   \n",
       "256              4   \n",
       "259              0   \n",
       "298              0   \n",
       "312              0   \n",
       "327              4   \n",
       "329              0   \n",
       "458              0   \n",
       "461              0   \n",
       "474              0   \n",
       "485              0   \n",
       "490              0   \n",
       "\n",
       "                                                                                                                                        sentence  \\\n",
       "18                                                                    @ludajuice Lebron is a Beast, but I'm still cheering 4 the A..til the end.   \n",
       "24         good news, just had a call from the Visa office, saying everything is fine.....what a relief! I am sick of scams out there! Stealing!   \n",
       "136                                                     Night at the Museum tonite instead of UP. :( oh well. that 4 yr old better enjoy it. LOL   \n",
       "139                       Tell me again why we are giving more $$ to GM?? We should use that $ for all the programs that support the unemployed.   \n",
       "140                                                                         @jdreiss oh yes but if GM dies it will only be worth more boo hahaha   \n",
       "149       I hate Time Warner! Soooo wish I had Vios. Cant watch the fricken Mets game w/o buffering. I feel like im watching free internet porn.   \n",
       "150              Ahh...got rid of stupid time warner today &amp; now taking a nap while the roomies cook for me. Pretty good end for a monday :)   \n",
       "162  My wrist still hurts. I have to get it looked at. I HATE the dr/dentist/scary places. :( Time to watch Eagle eye. If you want to join, txt!   \n",
       "231                                                                          @MMBarnhill yay, glad you got the phone! Still, damn you, AT&amp;T.   \n",
       "255                                                                                                            @Lou911 Lebron is MURDERING shit.   \n",
       "256                                                                @uscsports21 LeBron is a monsta and he is only 24. SMH The world ain't ready.   \n",
       "259                                                                                                   Kobe is the best in the world not lebron .   \n",
       "298                                                The day I never have to deal with Comcast again will rank as one of the best days of my life.   \n",
       "312                                                                    @Fraggle312 oh those are awesome! i so wish they weren't owned by nike :(   \n",
       "327                                                                                                Will the Lakers kick the Nuggets ass tonight?   \n",
       "329    Wat the heck is North Korea doing!!??!! They just conducted powerful nuclear tests! Follow the link: http://www.msnbc.msn.com/id/30921379   \n",
       "458          @sheridanmarfil - its not so much my obsession with cell phones, but the iphone!  i'm a slave to at&amp;t forever because of it. :)   \n",
       "461                                                                           Fuzzball is more fun than AT&amp;T ;P http://fuzz-ball.com/twitter   \n",
       "474                                  dearest @google, you rich bastards! the VISA card you sent me doesn't work. why screw a little guy like me?   \n",
       "485  Monday already. Iran may implode. Kitchen is a disaster. @annagoss seems happy. @sebulous had a nice weekend and @goldpanda is great. wh...   \n",
       "490             I just created my first LaTeX file from scratch. That didn't work out very well. (See @amandabittner , it's a great time waster)   \n",
       "\n",
       "     compoundScore  positiveScore  neutralScore  negativeScore  \\\n",
       "18          0.6652          0.288         0.712          0.000   \n",
       "24         -0.7701          0.178         0.475          0.347   \n",
       "136         0.8331          0.425         0.470          0.105   \n",
       "139         0.6662          0.206         0.794          0.000   \n",
       "140         0.8597          0.442         0.558          0.000   \n",
       "149         0.6239          0.288         0.590          0.121   \n",
       "150         0.6908          0.289         0.603          0.108   \n",
       "162        -0.8491          0.099         0.596          0.304   \n",
       "231         0.6114          0.385         0.460          0.155   \n",
       "255        -0.8636          0.000         0.258          0.742   \n",
       "256        -0.6301          0.000         0.700          0.300   \n",
       "259         0.6369          0.344         0.656          0.000   \n",
       "298         0.6369          0.181         0.819          0.000   \n",
       "312         0.7170          0.379         0.481          0.140   \n",
       "327        -0.5423          0.000         0.667          0.333   \n",
       "329         0.6517          0.213         0.787          0.000   \n",
       "458         0.5362          0.164         0.766          0.070   \n",
       "461         0.5563          0.339         0.661          0.000   \n",
       "474         0.7193          0.380         0.483          0.138   \n",
       "485         0.7579          0.345         0.521          0.134   \n",
       "490         0.8173          0.333         0.667          0.000   \n",
       "\n",
       "    vaderClassification senti140Classification  \n",
       "18             positive               negative  \n",
       "24             negative               positive  \n",
       "136            positive               negative  \n",
       "139            positive               negative  \n",
       "140            positive               negative  \n",
       "149            positive               negative  \n",
       "150            positive               negative  \n",
       "162            negative               positive  \n",
       "231            positive               negative  \n",
       "255            negative               positive  \n",
       "256            negative               positive  \n",
       "259            positive               negative  \n",
       "298            positive               negative  \n",
       "312            positive               negative  \n",
       "327            negative               positive  \n",
       "329            positive               negative  \n",
       "458            positive               negative  \n",
       "461            positive               negative  \n",
       "474            positive               negative  \n",
       "485            positive               negative  \n",
       "490            positive               negative  "
      ]
     },
     "execution_count": 10,
     "metadata": {},
     "output_type": "execute_result"
    }
   ],
   "source": [
    "polarOpposite.shape\n",
    "pd.options.display.max_colwidth = 140\n",
    "\n",
    "polarOpposite\n"
   ]
  },
  {
   "cell_type": "code",
   "execution_count": null,
   "metadata": {
    "collapsed": true
   },
   "outputs": [],
   "source": []
  }
 ],
 "metadata": {
  "kernelspec": {
   "display_name": "Python 3",
   "language": "python",
   "name": "python3"
  },
  "language_info": {
   "codemirror_mode": {
    "name": "ipython",
    "version": 3
   },
   "file_extension": ".py",
   "mimetype": "text/x-python",
   "name": "python",
   "nbconvert_exporter": "python",
   "pygments_lexer": "ipython3",
   "version": "3.5.1"
  }
 },
 "nbformat": 4,
 "nbformat_minor": 0
}
