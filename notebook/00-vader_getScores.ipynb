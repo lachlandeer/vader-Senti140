{
 "cells": [
  {
   "cell_type": "code",
   "execution_count": 1,
   "metadata": {
    "collapsed": true
   },
   "outputs": [],
   "source": [
    "from vaderSentiment.vaderSentiment import SentimentIntensityAnalyzer\n",
    "import csv"
   ]
  },
  {
   "cell_type": "code",
   "execution_count": 3,
   "metadata": {
    "collapsed": true
   },
   "outputs": [],
   "source": [
    "analyzer = SentimentIntensityAnalyzer()"
   ]
  },
  {
   "cell_type": "code",
   "execution_count": 4,
   "metadata": {
    "collapsed": false
   },
   "outputs": [],
   "source": [
    "\n",
    "with open('../data/vaderScores.csv', 'w') as outputFile:\n",
    "    # output will go here\n",
    "    writer = csv.writer(outputFile, delimiter = ',', lineterminator = '\\n')\n",
    "    writer.writerow(['originalScore', 'sentence', 'compoundScore', 'positiveScore', 'neutralScore', 'negativeScore'])\n",
    "\n",
    "    with open('../data/senti140.csv') as datafile:\n",
    "\n",
    "        # input comes from here\n",
    "        reader = csv.DictReader(datafile)\n",
    "\n",
    "        for row in reader:\n",
    "\n",
    "            pos = []\n",
    "            neu = []\n",
    "            neg = []\n",
    "            compound = []\n",
    "\n",
    "            sentence = row['text']\n",
    "            vs = analyzer.polarity_scores(sentence)\n",
    "\n",
    "            compound = vs['compound']\n",
    "            pos = vs['pos']\n",
    "            neu = vs['neu']\n",
    "            neg = vs['neg']\n",
    "            #print(\"{:-<65} {}\".format(sentence, str(vs)))\n",
    "            #print(compound_rate)\n",
    "\n",
    "            writer.writerow([row['original'], sentence, compound, pos, neu, neg])\n",
    "\n"
   ]
  },
  {
   "cell_type": "code",
   "execution_count": null,
   "metadata": {
    "collapsed": true
   },
   "outputs": [],
   "source": []
  }
 ],
 "metadata": {
  "kernelspec": {
   "display_name": "Python 3",
   "language": "python",
   "name": "python3"
  },
  "language_info": {
   "codemirror_mode": {
    "name": "ipython",
    "version": 3
   },
   "file_extension": ".py",
   "mimetype": "text/x-python",
   "name": "python",
   "nbconvert_exporter": "python",
   "pygments_lexer": "ipython3",
   "version": "3.5.1"
  }
 },
 "nbformat": 4,
 "nbformat_minor": 0
}
